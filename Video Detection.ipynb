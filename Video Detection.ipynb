{
 "cells": [
  {
   "cell_type": "code",
   "execution_count": 5,
   "id": "8b031746-dab3-4276-b5d2-4932d48857d5",
   "metadata": {},
   "outputs": [],
   "source": [
    "import cv2\n",
    "import numpy as np\n",
    "import openvino as ov"
   ]
  },
  {
   "cell_type": "markdown",
   "id": "7bb1e899-5bd2-4fbb-bb8e-79de20589b02",
   "metadata": {},
   "source": [
    "# Webcam"
   ]
  },
  {
   "cell_type": "code",
   "execution_count": 8,
   "id": "ce8bd527-3952-40d8-933a-e8b76ce002be",
   "metadata": {},
   "outputs": [],
   "source": [
    "def Main():\n",
    "    camera = cv2.VideoCapture(source)\n",
    "\n",
    "    while(True):\n",
    "\n",
    "        ret, frame = camera.read()\n",
    "\n",
    "        if not ret:\n",
    "            break\n",
    "\n",
    "        cv2.imshow(\"Webcam\", frame)\n",
    "\n",
    "        if cv2.waitKey(1) & 0xff == ord('q'):\n",
    "            break\n",
    "\n",
    "    camera.release()\n",
    "    cv2.destroyAllWindows()"
   ]
  },
  {
   "cell_type": "code",
   "execution_count": 31,
   "id": "8abf3a5c-153b-46b5-8834-46cb9da65f41",
   "metadata": {},
   "outputs": [],
   "source": [
    "source = \"data/man.mp4\"\n",
    "\n",
    "if __name__ == '__main__':\n",
    "    Main()"
   ]
  },
  {
   "cell_type": "markdown",
   "id": "d0b2d99f-7584-40ed-88ba-c6ff8862c3c1",
   "metadata": {},
   "source": [
    "# Face Detection with Webcam"
   ]
  },
  {
   "cell_type": "markdown",
   "id": "aa0fdfa5-1762-4d89-8954-be7323dfb47b",
   "metadata": {},
   "source": [
    "### Load Model"
   ]
  },
  {
   "cell_type": "code",
   "execution_count": 14,
   "id": "23d7abe9-bbd6-4cb1-b951-dac7f6e34bc1",
   "metadata": {},
   "outputs": [
    {
     "name": "stdout",
     "output_type": "stream",
     "text": [
      "Input shape:  [1,3,384,672]\n",
      "Output shape:  [1,1,200,7]\n",
      "Input shape:  [1,3,64,64]\n",
      "Output shape:  [1,5,1,1]\n",
      "Input shape:  [1,3,62,62]\n",
      "Output shape:  <bound method PyCapsule.output of <CompiledModel:\n",
      "inputs[\n",
      "<ConstOutput: names[data] shape[1,3,62,62] type: f32>\n",
      "]\n",
      "outputs[\n",
      "<ConstOutput: names[prob] shape[1,2,1,1] type: f32>,\n",
      "<ConstOutput: names[age_conv3, fc3_a] shape[1,1,1,1] type: f32>\n",
      "]>>\n"
     ]
    }
   ],
   "source": [
    "import openvino as ov\n",
    "\n",
    "core = ov.Core()\n",
    "\n",
    "model_face = core.read_model(model='models/face-detection-adas-0001.xml')\n",
    "compiled_model_face = core.compile_model(model = model_face, device_name = \"CPU\")\n",
    "\n",
    "input_layer_face = compiled_model_face.input(0)\n",
    "output_layer_face = compiled_model_face.output(0)\n",
    "\n",
    "print(\"Input shape: \", input_layer_face.shape)\n",
    "print(\"Output shape: \", output_layer_face.shape)\n",
    "\n",
    "model_emo = core.read_model(model='models/emotions-recognition-retail-0003.xml')\n",
    "compiled_model_emo = core.compile_model(model = model_emo, device_name = \"CPU\")\n",
    "\n",
    "input_layer_emo = compiled_model_emo.input(0)\n",
    "output_layer_emo = compiled_model_emo.output(0)\n",
    "\n",
    "print(\"Input shape: \", input_layer_emo.shape)\n",
    "print(\"Output shape: \", output_layer_emo.shape)\n",
    "\n",
    "model_ag = core.read_model(model='models/age-gender-recognition-retail-0013.xml')\n",
    "compiled_model_ag = core.compile_model(model = model_ag, device_name = \"CPU\")\n",
    "\n",
    "input_layer_ag = compiled_model_ag.input(0)\n",
    "output_layer_ag = compiled_model_ag.output\n",
    "\n",
    "print(\"Input shape: \", input_layer_ag.shape)\n",
    "print(\"Output shape: \", output_layer_ag)"
   ]
  },
  {
   "cell_type": "markdown",
   "id": "cff5992b-c64f-46ff-a4f0-3d002f6c5311",
   "metadata": {},
   "source": [
    "### Pre-Process New Input Data"
   ]
  },
  {
   "cell_type": "code",
   "execution_count": 16,
   "id": "5f50ed7a-b3e2-4fd7-a617-0aa8abc8a378",
   "metadata": {},
   "outputs": [],
   "source": [
    "def preprocess(frame, input_layer):\n",
    "    N, input_channels, input_height, input_width = input_layer.shape\n",
    "\n",
    "    resized_frame = cv2.resize(frame, (input_width, input_height))\n",
    "    transposed_frame = resized_frame.transpose(2, 0, 1)\n",
    "    input_frame = np. expand_dims(transposed_frame, 0)\n",
    "\n",
    "    return input_frame"
   ]
  },
  {
   "cell_type": "markdown",
   "id": "d2e2ac3b-6fe3-48e3-9b96-690a834dea29",
   "metadata": {},
   "source": [
    "### Postprocess the results"
   ]
  },
  {
   "cell_type": "markdown",
   "id": "96f851df-9fce-408b-8c92-bbcee93bff0a",
   "metadata": {},
   "source": [
    "#### Find the Face Boxes"
   ]
  },
  {
   "cell_type": "code",
   "execution_count": 20,
   "id": "32d04ace-41d5-4cdf-aa94-8717375fa119",
   "metadata": {},
   "outputs": [],
   "source": [
    "def find_faceboxes(frame, results, confidence_threshold):\n",
    "    results = results.squeeze()\n",
    "\n",
    "    scores = results[:,2]\n",
    "    boxes = results[:,-4:]\n",
    "    \n",
    "    face_boxes = boxes[scores >= confidence_threshold]\n",
    "    scores = scores[scores >= confidence_threshold]\n",
    "\n",
    "    frame_h, frame_w, frame_channels = frame.shape\n",
    "    face_boxes = face_boxes*np.array([frame_w, frame_h, frame_w, frame_h])\n",
    "    face_boxes = face_boxes.astype(np.int64)\n",
    "\n",
    "    return face_boxes, scores"
   ]
  },
  {
   "cell_type": "markdown",
   "id": "c0c40e58-ef67-4cd8-a716-e2b6c01620ba",
   "metadata": {},
   "source": [
    "### Draw the Emotion/Age/Gender"
   ]
  },
  {
   "cell_type": "code",
   "execution_count": 24,
   "id": "072bab8c-c245-462c-a2ef-67fe750d5036",
   "metadata": {},
   "outputs": [],
   "source": [
    "def draw_age_gender_emotion(face_boxes, frame):\n",
    "\n",
    "    EMOTION_NAMES = ['neutral', 'happy', 'sad', 'surprise', 'anger']\n",
    "\n",
    "    show_frame = frame.copy()\n",
    "                    \n",
    "    for i in range(len(face_boxes)):\n",
    "\n",
    "        xmin, ymin, xmax, ymax = face_boxes[i]\n",
    "        face = frame[ymin:ymax, xmin:xmax]\n",
    "        # --- emotion ---\n",
    "        input_frame = preprocess(face, input_layer_emo)\n",
    "        results_emo = compiled_model_emo([input_frame])[output_layer_emo]\n",
    "\n",
    "        results_emo = results_emo.squeeze()\n",
    "        index = np.argmax(results_emo)\n",
    "\n",
    "        \n",
    "\n",
    "        # --- emotion ---\n",
    "        \n",
    "        # --- age and gender ---\n",
    "        input_frame_ag = preprocess(face, input_layer_ag)\n",
    "        results_ag= compiled_model_ag([input_frame_ag])\n",
    "        age, gender = results_ag[1], results_ag[0]\n",
    "        age = np.squeeze(age)\n",
    "        age = int(age*100)\n",
    "\n",
    "        gender = np.squeeze(gender)\n",
    "\n",
    "        if (gender[0]>0.65):\n",
    "            gender = \"female\"\n",
    "            box_color = (200,200,0)\n",
    "        \n",
    "        elif (gender[1]>=0.55):\n",
    "            gender = \"male\"\n",
    "            box_color = (0,200,200)\n",
    "        \n",
    "        else:\n",
    "            gender = \"unknowns\"\n",
    "            box_color = (200,200,200)\n",
    "        \n",
    "        # --- age and gender ---\n",
    "        \n",
    "        fontScale = frame.shape[1]/750\n",
    "\n",
    "        text = gender + ' ' + str(age) + ' ' + EMOTION_NAMES[index]\n",
    "        cv2.putText(show_frame, text, (xmin, ymin), cv2.FONT_HERSHEY_SIMPLEX, fontScale, (0, 200, 0), 8)\n",
    "        cv2.rectangle(img=show_frame, pt1=(xmin,ymin), pt2=(xmax, ymax), color=box_color, thickness=2)\n",
    "    \n",
    "    return show_frame"
   ]
  },
  {
   "cell_type": "markdown",
   "id": "73d23244-5714-4bb9-b4cd-b7fcf4b9ad70",
   "metadata": {},
   "source": [
    "# Run Inference"
   ]
  },
  {
   "cell_type": "code",
   "execution_count": 27,
   "id": "9ae405ca-74d4-4a74-9d31-c9db2f225952",
   "metadata": {},
   "outputs": [],
   "source": [
    "def Main():\n",
    "    camera = cv2.VideoCapture(source)\n",
    "\n",
    "    while(True):\n",
    "    \n",
    "        ret, frame = camera.read()\n",
    "    \n",
    "        if not ret:\n",
    "            break\n",
    "    \n",
    "        input_frame = preprocess(frame, input_layer_face)\n",
    "        results = compiled_model_face([input_frame])[output_layer_face]\n",
    "    \n",
    "        \n",
    "        face_boxes, scores = find_faceboxes(frame, results, confidence_threshold)\n",
    "        show_frame = draw_age_gender_emotion(face_boxes, frame)\n",
    "    \n",
    "        cv2.imshow(\"Webcam\", show_frame)\n",
    "    \n",
    "        if cv2.waitKey(1) & 0xff == ord('q'):\n",
    "            break\n",
    "    \n",
    "    camera.release()\n",
    "    cv2.destroyAllWindows()"
   ]
  },
  {
   "cell_type": "code",
   "execution_count": 43,
   "id": "47fe98c1-ade0-4b70-874f-44735d283f76",
   "metadata": {},
   "outputs": [],
   "source": [
    "confidence_threshold = .95\n",
    "source = \"data/man.mp4\"\n",
    "\n",
    "if __name__ == '__main__':\n",
    "    Main()"
   ]
  },
  {
   "cell_type": "code",
   "execution_count": null,
   "id": "355ce2b0-76d1-4adb-9440-69a24c92d7c2",
   "metadata": {},
   "outputs": [],
   "source": []
  }
 ],
 "metadata": {
  "kernelspec": {
   "display_name": "Python 3 (ipykernel)",
   "language": "python",
   "name": "python3"
  },
  "language_info": {
   "codemirror_mode": {
    "name": "ipython",
    "version": 3
   },
   "file_extension": ".py",
   "mimetype": "text/x-python",
   "name": "python",
   "nbconvert_exporter": "python",
   "pygments_lexer": "ipython3",
   "version": "3.12.4"
  }
 },
 "nbformat": 4,
 "nbformat_minor": 5
}
